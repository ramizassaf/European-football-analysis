{
 "cells": [
  {
   "cell_type": "markdown",
   "metadata": {},
   "source": [
    "# Project: Investigate a European Football DataBase - What makes a team win?\n",
    " \n",
    "## Table of Contents\n",
    "<ul>\n",
    "<li><a href=\"#intro\">Introduction</a></li>\n",
    "<li><a href=\"#wrangling\">Data Wrangling</a></li>\n",
    "<li><a href=\"#eda\">Exploratory Data Analysis</a></li>\n",
    "<li><a href=\"#conclusions\">Conclusions</a></li>\n",
    "</ul>"
   ]
  },
  {
   "cell_type": "markdown",
   "metadata": {},
   "source": [
    "<a id='intro'></a>\n",
    "## Introduction\n",
    "\n",
    "Football is the most followed sports globally. One very important aspect, the most important asppect infact is who might win the game. Each team sets different tactics and counter tactics, some teams prefer attacking others prefer to score one goal and defect. Some teams prefer fast and risky football other prefer slow paced, few but critical attacks to win the game. In some games, nothing counts, it is purely luck. From another point of view, teams with stronger players tend to control the game, defend less and creating a lot of scoring chances, weaker teams tend to be careful, move slowly and try to create few but critical finishes to score.  \n",
    "\n",
    "After investigating the different databases this one gave me a lot of things to think about. Which style of play is better? Which style of play give on average the highest number of goals? does it matter if the team is playing home or away? Let's also consider an average team (based on FIFA ratings for example), they might be willing to play attacking football with weaker teams while they might be defensive against stronger teams. \n",
    "\n",
    "The data was downloaded from Kaggle website. I have installed SQLlite, and start writing queries from what I magically learned in this course. I have have viewed the data tried to understand how it is stored and in what data types. This data set has limited documentation and one needs to read and explore the tables to understand what is stored in each column. To start working with playing tactics, goals, matches and player attributes the two SQL queries were implemtned in SQLite. \n",
    "\n",
    "\n",
    "\n",
    "\n"
   ]
  },
  {
   "cell_type": "raw",
   "metadata": {},
   "source": [
    "select strftime('%Y',m.date) as year1, m.home_team_goal,m.away_team_goal, m.home_team_api_id, m.match_api_id,\n",
    "m.home_player_1, m.home_player_2, m.home_player_3, m.home_player_4, m.home_player_5, m.home_player_6, m.home_player_7, m.home_player_8, m.home_player_9, m.home_player_10, m.home_player_11,\n",
    "m.away_team_api_id, m.away_player_1, m.away_player_2, m.away_player_3, m.away_player_4, m.away_player_5, m.away_player_6, m.away_player_7, m.away_player_8, m.away_player_9, m.away_player_10, m.away_player_11,\n",
    "t1.buildUpPlaySpeedClass as home_team_buildUp_playSpeedClass, \n",
    "t1.buildUpPlayDribblingClass as  home_team_buildUpPlayDribbingClass, \n",
    "t1.buildUpPlayPassingClass as home_team_buildUpPassingClass , \n",
    "t1.chanceCreationPassingClass as home_team_chanceCreationPassingClass,\n",
    "t1.chanceCreationCrossingClass as home_team_chanceCreationCrossingClass,\n",
    "t1.chanceCreationShootingClass as home_team_chanceCreationShootingClass,\n",
    "t1.defencePressureClass as home_team_defencePressureClass,\n",
    "t1.defenceAggressionClass as home_team_defenceAggressionClass,\n",
    "t1.defenceTeamWidthClass as home_team_defenceTeamWidthClass,\n",
    "\n",
    "t2.buildUpPlaySpeedClass as away_team_buildUp_playSpeedClass, \n",
    "t2.buildUpPlayDribblingClass as  away_team_buildUpPlayDribbingClass, \n",
    "t2.buildUpPlayPassingClass as away_team_buildUpPassingClass , \n",
    "t2.chanceCreationPassingClass as away_team_chanceCreationPassingClass,\n",
    "t2.chanceCreationCrossingClass as away_team_chanceCreationCrossingClass,\n",
    "t2.chanceCreationShootingClass as away_team_chanceCreationShootingClass,\n",
    "t2.defencePressureClass as away_team_defencePressureClass,\n",
    "t2.defenceAggressionClass as away_team_defenceAggressionClass,\n",
    "t2.defenceTeamWidthClass as away_team_defenceTeamWidthClass\n",
    "from match m\n",
    "left join Team_Attributes t1\n",
    "on m.home_team_api_id = t1.team_api_id and strftime('%Y',m.date) = strftime('%Y',t1.date)\n",
    "left join Team_Attributes t2\n",
    "on m.away_team_api_id = t2.team_api_id and strftime('%Y',m.date) = strftime('%Y',t2.date)"
   ]
  },
  {
   "cell_type": "raw",
   "metadata": {},
   "source": [
    "select pa.player_api_id,strftime('%Y',pa.date) as year, AVG(pa.overall_rating)\n",
    "from Player_Attributes pa\n",
    "group by 1 , 2"
   ]
  },
  {
   "cell_type": "markdown",
   "metadata": {},
   "source": [
    "The 1st SQL code collects informtion about playing style (in classes), it also collects information about players who participated in the games.\n",
    "The 2nd SQL code calculates the average player rating that will be later connected with the matches. The function average was used, because when I viewed the data I saw multiple player rating during a given year. To make my analysis easier I averaged the player rating in each year using the AVG () functuion in SQL.\n",
    "\n",
    "The files are exported usng SQLlite to *.csv* which will be then read by PANDAS package of Python. \n",
    "\n",
    "The next step would be to import the data to Python using PANDAS. I also imported Numpy in case I needed to manipulate the data and Matplotlib for plotting figures."
   ]
  },
  {
   "cell_type": "code",
   "execution_count": 1,
   "metadata": {},
   "outputs": [],
   "source": [
    "import pandas as pd, numpy as np, matplotlib.pyplot as plt\n",
    "%matplotlib inline\n",
    "# game data\n",
    "matchdata_df = pd.read_csv(\"./all_match_data.csv\")\n",
    "matchdata_df.rename(columns={'year1':'year'}, \n",
    "                 inplace=True)\n"
   ]
  },
  {
   "cell_type": "markdown",
   "metadata": {},
   "source": [
    "<a id='wrangling'></a>\n",
    "## Data Wrangling\n",
    "The data is uploaded, inspected from the CSV files visually. then pandas functions .info, .nunique() and head assured the data is clean\n",
    "\n",
    "### General Properties"
   ]
  },
  {
   "cell_type": "code",
   "execution_count": 2,
   "metadata": {},
   "outputs": [
    {
     "data": {
      "text/plain": [
       "year                                         9\n",
       "home_team_goal                              11\n",
       "away_team_goal                              10\n",
       "home_team_api_id                           299\n",
       "match_api_id                             25979\n",
       "home_player_1                              906\n",
       "home_player_2                             2414\n",
       "home_player_3                             2375\n",
       "home_player_4                             2606\n",
       "home_player_5                             2769\n",
       "home_player_6                             3798\n",
       "home_player_7                             3422\n",
       "home_player_8                             4076\n",
       "home_player_9                             4114\n",
       "home_player_10                            3642\n",
       "home_player_11                            2890\n",
       "away_team_api_id                           299\n",
       "away_player_1                              926\n",
       "away_player_2                             2504\n",
       "away_player_3                             2470\n",
       "away_player_4                             2657\n",
       "away_player_5                             2884\n",
       "away_player_6                             3930\n",
       "away_player_7                             3620\n",
       "away_player_8                             4249\n",
       "away_player_9                             4319\n",
       "away_player_10                            3891\n",
       "away_player_11                            3040\n",
       "home_team_buildUp_playSpeedClass             3\n",
       "home_team_buildUpPlayDribbingClass           3\n",
       "home_team_buildUpPassingClass                3\n",
       "home_team_chanceCreationPassingClass         3\n",
       "home_team_chanceCreationCrossingClass        3\n",
       "home_team_chanceCreationShootingClass        3\n",
       "home_team_defencePressureClass               3\n",
       "home_team_defenceAggressionClass             3\n",
       "home_team_defenceTeamWidthClass              3\n",
       "away_team_buildUp_playSpeedClass             3\n",
       "away_team_buildUpPlayDribbingClass           3\n",
       "away_team_buildUpPassingClass                3\n",
       "away_team_chanceCreationPassingClass         3\n",
       "away_team_chanceCreationCrossingClass        3\n",
       "away_team_chanceCreationShootingClass        3\n",
       "away_team_defencePressureClass               3\n",
       "away_team_defenceAggressionClass             3\n",
       "away_team_defenceTeamWidthClass              3\n",
       "dtype: int64"
      ]
     },
     "execution_count": 2,
     "metadata": {},
     "output_type": "execute_result"
    }
   ],
   "source": [
    "matchdata_df.nunique()\n"
   ]
  },
  {
   "cell_type": "code",
   "execution_count": 3,
   "metadata": {},
   "outputs": [
    {
     "data": {
      "text/html": [
       "<div>\n",
       "<style>\n",
       "    .dataframe thead tr:only-child th {\n",
       "        text-align: right;\n",
       "    }\n",
       "\n",
       "    .dataframe thead th {\n",
       "        text-align: left;\n",
       "    }\n",
       "\n",
       "    .dataframe tbody tr th {\n",
       "        vertical-align: top;\n",
       "    }\n",
       "</style>\n",
       "<table border=\"1\" class=\"dataframe\">\n",
       "  <thead>\n",
       "    <tr style=\"text-align: right;\">\n",
       "      <th></th>\n",
       "      <th>year</th>\n",
       "      <th>home_team_goal</th>\n",
       "      <th>away_team_goal</th>\n",
       "      <th>home_team_api_id</th>\n",
       "      <th>match_api_id</th>\n",
       "      <th>home_player_1</th>\n",
       "      <th>home_player_2</th>\n",
       "      <th>home_player_3</th>\n",
       "      <th>home_player_4</th>\n",
       "      <th>home_player_5</th>\n",
       "      <th>...</th>\n",
       "      <th>home_team_defenceTeamWidthClass</th>\n",
       "      <th>away_team_buildUp_playSpeedClass</th>\n",
       "      <th>away_team_buildUpPlayDribbingClass</th>\n",
       "      <th>away_team_buildUpPassingClass</th>\n",
       "      <th>away_team_chanceCreationPassingClass</th>\n",
       "      <th>away_team_chanceCreationCrossingClass</th>\n",
       "      <th>away_team_chanceCreationShootingClass</th>\n",
       "      <th>away_team_defencePressureClass</th>\n",
       "      <th>away_team_defenceAggressionClass</th>\n",
       "      <th>away_team_defenceTeamWidthClass</th>\n",
       "    </tr>\n",
       "  </thead>\n",
       "  <tbody>\n",
       "    <tr>\n",
       "      <th>25974</th>\n",
       "      <td>2015</td>\n",
       "      <td>1</td>\n",
       "      <td>0</td>\n",
       "      <td>10190</td>\n",
       "      <td>1992091</td>\n",
       "      <td>42231.0</td>\n",
       "      <td>678384.0</td>\n",
       "      <td>95220.0</td>\n",
       "      <td>638592.0</td>\n",
       "      <td>413155.0</td>\n",
       "      <td>...</td>\n",
       "      <td>Normal</td>\n",
       "      <td>Balanced</td>\n",
       "      <td>Normal</td>\n",
       "      <td>Mixed</td>\n",
       "      <td>Normal</td>\n",
       "      <td>Normal</td>\n",
       "      <td>Normal</td>\n",
       "      <td>Medium</td>\n",
       "      <td>Press</td>\n",
       "      <td>Normal</td>\n",
       "    </tr>\n",
       "    <tr>\n",
       "      <th>25975</th>\n",
       "      <td>2015</td>\n",
       "      <td>1</td>\n",
       "      <td>2</td>\n",
       "      <td>9824</td>\n",
       "      <td>1992092</td>\n",
       "      <td>33272.0</td>\n",
       "      <td>41621.0</td>\n",
       "      <td>25813.0</td>\n",
       "      <td>257845.0</td>\n",
       "      <td>114735.0</td>\n",
       "      <td>...</td>\n",
       "      <td>Normal</td>\n",
       "      <td>Balanced</td>\n",
       "      <td>Normal</td>\n",
       "      <td>Mixed</td>\n",
       "      <td>Normal</td>\n",
       "      <td>Normal</td>\n",
       "      <td>Normal</td>\n",
       "      <td>Medium</td>\n",
       "      <td>Press</td>\n",
       "      <td>Normal</td>\n",
       "    </tr>\n",
       "    <tr>\n",
       "      <th>25976</th>\n",
       "      <td>2015</td>\n",
       "      <td>2</td>\n",
       "      <td>0</td>\n",
       "      <td>9956</td>\n",
       "      <td>1992093</td>\n",
       "      <td>157856.0</td>\n",
       "      <td>274779.0</td>\n",
       "      <td>177689.0</td>\n",
       "      <td>294256.0</td>\n",
       "      <td>42258.0</td>\n",
       "      <td>...</td>\n",
       "      <td>Normal</td>\n",
       "      <td>Balanced</td>\n",
       "      <td>Normal</td>\n",
       "      <td>Mixed</td>\n",
       "      <td>Normal</td>\n",
       "      <td>Normal</td>\n",
       "      <td>Normal</td>\n",
       "      <td>Medium</td>\n",
       "      <td>Press</td>\n",
       "      <td>Normal</td>\n",
       "    </tr>\n",
       "    <tr>\n",
       "      <th>25977</th>\n",
       "      <td>2015</td>\n",
       "      <td>0</td>\n",
       "      <td>0</td>\n",
       "      <td>7896</td>\n",
       "      <td>1992094</td>\n",
       "      <td>NaN</td>\n",
       "      <td>8881.0</td>\n",
       "      <td>173534.0</td>\n",
       "      <td>39646.0</td>\n",
       "      <td>282287.0</td>\n",
       "      <td>...</td>\n",
       "      <td>NaN</td>\n",
       "      <td>Balanced</td>\n",
       "      <td>Normal</td>\n",
       "      <td>Mixed</td>\n",
       "      <td>Normal</td>\n",
       "      <td>Normal</td>\n",
       "      <td>Normal</td>\n",
       "      <td>Medium</td>\n",
       "      <td>Press</td>\n",
       "      <td>Normal</td>\n",
       "    </tr>\n",
       "    <tr>\n",
       "      <th>25978</th>\n",
       "      <td>2015</td>\n",
       "      <td>4</td>\n",
       "      <td>3</td>\n",
       "      <td>10192</td>\n",
       "      <td>1992095</td>\n",
       "      <td>274787.0</td>\n",
       "      <td>492132.0</td>\n",
       "      <td>108451.0</td>\n",
       "      <td>25815.0</td>\n",
       "      <td>94553.0</td>\n",
       "      <td>...</td>\n",
       "      <td>Normal</td>\n",
       "      <td>Balanced</td>\n",
       "      <td>Normal</td>\n",
       "      <td>Mixed</td>\n",
       "      <td>Normal</td>\n",
       "      <td>Normal</td>\n",
       "      <td>Normal</td>\n",
       "      <td>Medium</td>\n",
       "      <td>Press</td>\n",
       "      <td>Normal</td>\n",
       "    </tr>\n",
       "  </tbody>\n",
       "</table>\n",
       "<p>5 rows × 46 columns</p>\n",
       "</div>"
      ],
      "text/plain": [
       "       year  home_team_goal  away_team_goal  home_team_api_id  match_api_id  \\\n",
       "25974  2015               1               0             10190       1992091   \n",
       "25975  2015               1               2              9824       1992092   \n",
       "25976  2015               2               0              9956       1992093   \n",
       "25977  2015               0               0              7896       1992094   \n",
       "25978  2015               4               3             10192       1992095   \n",
       "\n",
       "       home_player_1  home_player_2  home_player_3  home_player_4  \\\n",
       "25974        42231.0       678384.0        95220.0       638592.0   \n",
       "25975        33272.0        41621.0        25813.0       257845.0   \n",
       "25976       157856.0       274779.0       177689.0       294256.0   \n",
       "25977            NaN         8881.0       173534.0        39646.0   \n",
       "25978       274787.0       492132.0       108451.0        25815.0   \n",
       "\n",
       "       home_player_5               ...                 \\\n",
       "25974       413155.0               ...                  \n",
       "25975       114735.0               ...                  \n",
       "25976        42258.0               ...                  \n",
       "25977       282287.0               ...                  \n",
       "25978        94553.0               ...                  \n",
       "\n",
       "       home_team_defenceTeamWidthClass  away_team_buildUp_playSpeedClass  \\\n",
       "25974                           Normal                          Balanced   \n",
       "25975                           Normal                          Balanced   \n",
       "25976                           Normal                          Balanced   \n",
       "25977                              NaN                          Balanced   \n",
       "25978                           Normal                          Balanced   \n",
       "\n",
       "       away_team_buildUpPlayDribbingClass  away_team_buildUpPassingClass  \\\n",
       "25974                              Normal                          Mixed   \n",
       "25975                              Normal                          Mixed   \n",
       "25976                              Normal                          Mixed   \n",
       "25977                              Normal                          Mixed   \n",
       "25978                              Normal                          Mixed   \n",
       "\n",
       "       away_team_chanceCreationPassingClass  \\\n",
       "25974                                Normal   \n",
       "25975                                Normal   \n",
       "25976                                Normal   \n",
       "25977                                Normal   \n",
       "25978                                Normal   \n",
       "\n",
       "       away_team_chanceCreationCrossingClass  \\\n",
       "25974                                 Normal   \n",
       "25975                                 Normal   \n",
       "25976                                 Normal   \n",
       "25977                                 Normal   \n",
       "25978                                 Normal   \n",
       "\n",
       "       away_team_chanceCreationShootingClass  away_team_defencePressureClass  \\\n",
       "25974                                 Normal                          Medium   \n",
       "25975                                 Normal                          Medium   \n",
       "25976                                 Normal                          Medium   \n",
       "25977                                 Normal                          Medium   \n",
       "25978                                 Normal                          Medium   \n",
       "\n",
       "       away_team_defenceAggressionClass  away_team_defenceTeamWidthClass  \n",
       "25974                             Press                           Normal  \n",
       "25975                             Press                           Normal  \n",
       "25976                             Press                           Normal  \n",
       "25977                             Press                           Normal  \n",
       "25978                             Press                           Normal  \n",
       "\n",
       "[5 rows x 46 columns]"
      ]
     },
     "execution_count": 3,
     "metadata": {},
     "output_type": "execute_result"
    }
   ],
   "source": [
    "matchdata_df.tail()\n"
   ]
  },
  {
   "cell_type": "code",
   "execution_count": 4,
   "metadata": {},
   "outputs": [
    {
     "data": {
      "text/html": [
       "<div>\n",
       "<style>\n",
       "    .dataframe thead tr:only-child th {\n",
       "        text-align: right;\n",
       "    }\n",
       "\n",
       "    .dataframe thead th {\n",
       "        text-align: left;\n",
       "    }\n",
       "\n",
       "    .dataframe tbody tr th {\n",
       "        vertical-align: top;\n",
       "    }\n",
       "</style>\n",
       "<table border=\"1\" class=\"dataframe\">\n",
       "  <thead>\n",
       "    <tr style=\"text-align: right;\">\n",
       "      <th></th>\n",
       "      <th>player_api_id</th>\n",
       "      <th>year</th>\n",
       "      <th>player_rating</th>\n",
       "    </tr>\n",
       "  </thead>\n",
       "  <tbody>\n",
       "    <tr>\n",
       "      <th>0</th>\n",
       "      <td>2625</td>\n",
       "      <td>2007</td>\n",
       "      <td>63.0</td>\n",
       "    </tr>\n",
       "    <tr>\n",
       "      <th>1</th>\n",
       "      <td>2625</td>\n",
       "      <td>2008</td>\n",
       "      <td>60.0</td>\n",
       "    </tr>\n",
       "    <tr>\n",
       "      <th>2</th>\n",
       "      <td>2625</td>\n",
       "      <td>2010</td>\n",
       "      <td>60.0</td>\n",
       "    </tr>\n",
       "    <tr>\n",
       "      <th>3</th>\n",
       "      <td>2625</td>\n",
       "      <td>2011</td>\n",
       "      <td>58.5</td>\n",
       "    </tr>\n",
       "    <tr>\n",
       "      <th>4</th>\n",
       "      <td>2625</td>\n",
       "      <td>2012</td>\n",
       "      <td>58.0</td>\n",
       "    </tr>\n",
       "  </tbody>\n",
       "</table>\n",
       "</div>"
      ],
      "text/plain": [
       "   player_api_id  year  player_rating\n",
       "0           2625  2007           63.0\n",
       "1           2625  2008           60.0\n",
       "2           2625  2010           60.0\n",
       "3           2625  2011           58.5\n",
       "4           2625  2012           58.0"
      ]
     },
     "execution_count": 4,
     "metadata": {},
     "output_type": "execute_result"
    }
   ],
   "source": [
    "import pandas as pd\n",
    "player_rating_df = pd.read_csv(\"./player_rating.csv\")\n",
    "player_rating_df.rename(columns={'AVG(pa.overall_rating)':'player_rating'}, \n",
    "                 inplace=True)\n",
    "\n",
    "player_rating_df.head()\n",
    "\n"
   ]
  },
  {
   "cell_type": "code",
   "execution_count": 5,
   "metadata": {},
   "outputs": [],
   "source": [
    "home_team_api = matchdata_df.loc[:,'home_player_1':'home_player_11']\n",
    "away_team_api = matchdata_df.loc[:,'away_player_1':'away_player_11']  "
   ]
  },
  {
   "cell_type": "code",
   "execution_count": 12,
   "metadata": {
    "scrolled": false
   },
   "outputs": [
    {
     "data": {
      "text/plain": [
       "Index(['year', 'home_team_goal', 'away_team_goal', 'home_team_api_id',\n",
       "       'match_api_id', 'home_player_1', 'home_player_2', 'home_player_3',\n",
       "       'home_player_4', 'home_player_5', 'home_player_6', 'home_player_7',\n",
       "       'home_player_8', 'home_player_9', 'home_player_10', 'home_player_11',\n",
       "       'away_team_api_id', 'away_player_1', 'away_player_2', 'away_player_3',\n",
       "       'away_player_4', 'away_player_5', 'away_player_6', 'away_player_7',\n",
       "       'away_player_8', 'away_player_9', 'away_player_10', 'away_player_11',\n",
       "       'home_team_buildUp_playSpeedClass',\n",
       "       'home_team_buildUpPlayDribbingClass', 'home_team_buildUpPassingClass',\n",
       "       'home_team_chanceCreationPassingClass',\n",
       "       'home_team_chanceCreationCrossingClass',\n",
       "       'home_team_chanceCreationShootingClass',\n",
       "       'home_team_defencePressureClass', 'home_team_defenceAggressionClass',\n",
       "       'home_team_defenceTeamWidthClass', 'away_team_buildUp_playSpeedClass',\n",
       "       'away_team_buildUpPlayDribbingClass', 'away_team_buildUpPassingClass',\n",
       "       'away_team_chanceCreationPassingClass',\n",
       "       'away_team_chanceCreationCrossingClass',\n",
       "       'away_team_chanceCreationShootingClass',\n",
       "       'away_team_defencePressureClass', 'away_team_defenceAggressionClass',\n",
       "       'away_team_defenceTeamWidthClass', 'player_api_id', 'player_rating',\n",
       "       'player_api_id_home_player_2', 'player_rating_home_player_2',\n",
       "       'player_api_id_home_player_3', 'player_rating_home_player_3',\n",
       "       'player_api_id_home_player_4', 'player_rating_home_player_4',\n",
       "       'player_api_id_home_player_5', 'player_rating_home_player_5',\n",
       "       'player_api_id_home_player_6', 'player_rating_home_player_6',\n",
       "       'player_api_id_home_player_7', 'player_rating_home_player_7',\n",
       "       'player_api_id_home_player_8', 'player_rating_home_player_8',\n",
       "       'player_api_id_home_player_9', 'player_rating_home_player_9',\n",
       "       'player_api_id_home_player_10', 'player_rating_home_player_10',\n",
       "       'player_api_id_home_player_11', 'player_rating_home_player_11',\n",
       "       'player_api_id_away_player_1', 'player_rating_away_player_1',\n",
       "       'player_api_id_away_player_2', 'player_rating_away_player_2',\n",
       "       'player_api_id_away_player_3', 'player_rating_away_player_3',\n",
       "       'player_api_id_away_player_4', 'player_rating_away_player_4',\n",
       "       'player_api_id_away_player_5', 'player_rating_away_player_5',\n",
       "       'player_api_id_away_player_6', 'player_rating_away_player_6',\n",
       "       'player_api_id_away_player_7', 'player_rating_away_player_7',\n",
       "       'player_api_id_away_player_8', 'player_rating_away_player_8',\n",
       "       'player_api_id_away_player_9', 'player_rating_away_player_9',\n",
       "       'player_api_id_away_player_10', 'player_rating_away_player_10',\n",
       "       'player_api_id_away_player_11', 'player_rating_away_player_11'],\n",
       "      dtype='object')"
      ]
     },
     "execution_count": 12,
     "metadata": {},
     "output_type": "execute_result"
    }
   ],
   "source": [
    "# We need to calculate the average team performance level from the average rating of the players\n",
    "matchdata_withratings = matchdata_df\n",
    "def addrating(player,matches_data_frame,ratings_data_frame):\n",
    "    ''' This function will add the player rating'''\n",
    "    matches_data_frame =  pd.merge(matches_data_frame, ratings_data_frame, how='left', left_on=[player,'year'], copy=False, right_on=['player_api_id','year'], suffixes=['','_'+player])\n",
    "   \n",
    "    return matches_data_frame\n",
    "\n",
    "\n",
    "# add home players\n",
    "for i in home_team_api:\n",
    "    matchdata_withratings = addrating(i,matchdata_withratings,player_rating_df)\n",
    "    \n",
    "for j in away_team_api:\n",
    "    matchdata_withratings = addrating(j,matchdata_withratings,player_rating_df)\n",
    "\n",
    "matchdata_withratings.keys()"
   ]
  },
  {
   "cell_type": "code",
   "execution_count": 14,
   "metadata": {},
   "outputs": [],
   "source": [
    "matchdata_withratings['home_team_avg_rating'] = matchdata_withratings[['player_rating', 'player_rating_home_player_2', 'player_rating_home_player_3', 'player_rating_home_player_4', 'player_rating_home_player_5', 'player_rating_home_player_6', 'player_rating_home_player_7', 'player_rating_home_player_8', 'player_rating_home_player_9', 'player_rating_home_player_10', 'player_rating_home_player_11']].mean(axis=1)\n",
    "matchdata_withratings['away_team_avg_rating'] = matchdata_withratings[['player_rating_away_player_1', 'player_rating_away_player_2', 'player_rating_away_player_3', 'player_rating_away_player_4', 'player_rating_away_player_5', 'player_rating_away_player_6', 'player_rating_away_player_7', 'player_rating_away_player_8', 'player_rating_away_player_9', 'player_rating_away_player_10', 'player_rating_away_player_11']].mean(axis=1)\n",
    "matchdata_withratings['goal_diff'] =matchdata_withratings['home_team_goal']-matchdata_withratings['away_team_goal']\n",
    "matchdata_withratings['rating_diff'] =matchdata_withratings['home_team_avg_rating']-matchdata_withratings['away_team_avg_rating']"
   ]
  },
  {
   "cell_type": "code",
   "execution_count": 16,
   "metadata": {},
   "outputs": [
    {
     "data": {
      "text/html": [
       "<div>\n",
       "<style>\n",
       "    .dataframe thead tr:only-child th {\n",
       "        text-align: right;\n",
       "    }\n",
       "\n",
       "    .dataframe thead th {\n",
       "        text-align: left;\n",
       "    }\n",
       "\n",
       "    .dataframe tbody tr th {\n",
       "        vertical-align: top;\n",
       "    }\n",
       "</style>\n",
       "<table border=\"1\" class=\"dataframe\">\n",
       "  <thead>\n",
       "    <tr style=\"text-align: right;\">\n",
       "      <th></th>\n",
       "      <th>year</th>\n",
       "      <th>home_team_goal</th>\n",
       "      <th>away_team_goal</th>\n",
       "      <th>home_team_api_id</th>\n",
       "      <th>match_api_id</th>\n",
       "      <th>home_player_1</th>\n",
       "      <th>home_player_2</th>\n",
       "      <th>home_player_3</th>\n",
       "      <th>home_player_4</th>\n",
       "      <th>home_player_5</th>\n",
       "      <th>...</th>\n",
       "      <th>player_api_id_away_player_9</th>\n",
       "      <th>player_rating_away_player_9</th>\n",
       "      <th>player_api_id_away_player_10</th>\n",
       "      <th>player_rating_away_player_10</th>\n",
       "      <th>player_api_id_away_player_11</th>\n",
       "      <th>player_rating_away_player_11</th>\n",
       "      <th>home_team_avg_rating</th>\n",
       "      <th>away_team_avg_rating</th>\n",
       "      <th>goal_diff</th>\n",
       "      <th>rating_diff</th>\n",
       "    </tr>\n",
       "  </thead>\n",
       "  <tbody>\n",
       "    <tr>\n",
       "      <th>0</th>\n",
       "      <td>2008</td>\n",
       "      <td>1</td>\n",
       "      <td>1</td>\n",
       "      <td>9987</td>\n",
       "      <td>492473</td>\n",
       "      <td>NaN</td>\n",
       "      <td>NaN</td>\n",
       "      <td>NaN</td>\n",
       "      <td>NaN</td>\n",
       "      <td>NaN</td>\n",
       "      <td>...</td>\n",
       "      <td>NaN</td>\n",
       "      <td>NaN</td>\n",
       "      <td>NaN</td>\n",
       "      <td>NaN</td>\n",
       "      <td>NaN</td>\n",
       "      <td>NaN</td>\n",
       "      <td>NaN</td>\n",
       "      <td>NaN</td>\n",
       "      <td>0</td>\n",
       "      <td>NaN</td>\n",
       "    </tr>\n",
       "    <tr>\n",
       "      <th>1</th>\n",
       "      <td>2008</td>\n",
       "      <td>0</td>\n",
       "      <td>0</td>\n",
       "      <td>10000</td>\n",
       "      <td>492474</td>\n",
       "      <td>NaN</td>\n",
       "      <td>NaN</td>\n",
       "      <td>NaN</td>\n",
       "      <td>NaN</td>\n",
       "      <td>NaN</td>\n",
       "      <td>...</td>\n",
       "      <td>NaN</td>\n",
       "      <td>NaN</td>\n",
       "      <td>NaN</td>\n",
       "      <td>NaN</td>\n",
       "      <td>NaN</td>\n",
       "      <td>NaN</td>\n",
       "      <td>NaN</td>\n",
       "      <td>NaN</td>\n",
       "      <td>0</td>\n",
       "      <td>NaN</td>\n",
       "    </tr>\n",
       "    <tr>\n",
       "      <th>2</th>\n",
       "      <td>2008</td>\n",
       "      <td>0</td>\n",
       "      <td>3</td>\n",
       "      <td>9984</td>\n",
       "      <td>492475</td>\n",
       "      <td>NaN</td>\n",
       "      <td>NaN</td>\n",
       "      <td>NaN</td>\n",
       "      <td>NaN</td>\n",
       "      <td>NaN</td>\n",
       "      <td>...</td>\n",
       "      <td>NaN</td>\n",
       "      <td>NaN</td>\n",
       "      <td>NaN</td>\n",
       "      <td>NaN</td>\n",
       "      <td>NaN</td>\n",
       "      <td>NaN</td>\n",
       "      <td>NaN</td>\n",
       "      <td>NaN</td>\n",
       "      <td>-3</td>\n",
       "      <td>NaN</td>\n",
       "    </tr>\n",
       "    <tr>\n",
       "      <th>3</th>\n",
       "      <td>2008</td>\n",
       "      <td>5</td>\n",
       "      <td>0</td>\n",
       "      <td>9991</td>\n",
       "      <td>492476</td>\n",
       "      <td>NaN</td>\n",
       "      <td>NaN</td>\n",
       "      <td>NaN</td>\n",
       "      <td>NaN</td>\n",
       "      <td>NaN</td>\n",
       "      <td>...</td>\n",
       "      <td>NaN</td>\n",
       "      <td>NaN</td>\n",
       "      <td>NaN</td>\n",
       "      <td>NaN</td>\n",
       "      <td>NaN</td>\n",
       "      <td>NaN</td>\n",
       "      <td>NaN</td>\n",
       "      <td>NaN</td>\n",
       "      <td>5</td>\n",
       "      <td>NaN</td>\n",
       "    </tr>\n",
       "    <tr>\n",
       "      <th>4</th>\n",
       "      <td>2008</td>\n",
       "      <td>1</td>\n",
       "      <td>3</td>\n",
       "      <td>7947</td>\n",
       "      <td>492477</td>\n",
       "      <td>NaN</td>\n",
       "      <td>NaN</td>\n",
       "      <td>NaN</td>\n",
       "      <td>NaN</td>\n",
       "      <td>NaN</td>\n",
       "      <td>...</td>\n",
       "      <td>NaN</td>\n",
       "      <td>NaN</td>\n",
       "      <td>NaN</td>\n",
       "      <td>NaN</td>\n",
       "      <td>NaN</td>\n",
       "      <td>NaN</td>\n",
       "      <td>NaN</td>\n",
       "      <td>NaN</td>\n",
       "      <td>-2</td>\n",
       "      <td>NaN</td>\n",
       "    </tr>\n",
       "  </tbody>\n",
       "</table>\n",
       "<p>5 rows × 94 columns</p>\n",
       "</div>"
      ],
      "text/plain": [
       "   year  home_team_goal  away_team_goal  home_team_api_id  match_api_id  \\\n",
       "0  2008               1               1              9987        492473   \n",
       "1  2008               0               0             10000        492474   \n",
       "2  2008               0               3              9984        492475   \n",
       "3  2008               5               0              9991        492476   \n",
       "4  2008               1               3              7947        492477   \n",
       "\n",
       "  home_player_1 home_player_2 home_player_3 home_player_4 home_player_5  \\\n",
       "0           NaN           NaN           NaN           NaN           NaN   \n",
       "1           NaN           NaN           NaN           NaN           NaN   \n",
       "2           NaN           NaN           NaN           NaN           NaN   \n",
       "3           NaN           NaN           NaN           NaN           NaN   \n",
       "4           NaN           NaN           NaN           NaN           NaN   \n",
       "\n",
       "      ...     player_api_id_away_player_9 player_rating_away_player_9  \\\n",
       "0     ...                             NaN                         NaN   \n",
       "1     ...                             NaN                         NaN   \n",
       "2     ...                             NaN                         NaN   \n",
       "3     ...                             NaN                         NaN   \n",
       "4     ...                             NaN                         NaN   \n",
       "\n",
       "  player_api_id_away_player_10 player_rating_away_player_10  \\\n",
       "0                          NaN                          NaN   \n",
       "1                          NaN                          NaN   \n",
       "2                          NaN                          NaN   \n",
       "3                          NaN                          NaN   \n",
       "4                          NaN                          NaN   \n",
       "\n",
       "  player_api_id_away_player_11 player_rating_away_player_11  \\\n",
       "0                          NaN                          NaN   \n",
       "1                          NaN                          NaN   \n",
       "2                          NaN                          NaN   \n",
       "3                          NaN                          NaN   \n",
       "4                          NaN                          NaN   \n",
       "\n",
       "   home_team_avg_rating away_team_avg_rating goal_diff rating_diff  \n",
       "0                   NaN                  NaN         0         NaN  \n",
       "1                   NaN                  NaN         0         NaN  \n",
       "2                   NaN                  NaN        -3         NaN  \n",
       "3                   NaN                  NaN         5         NaN  \n",
       "4                   NaN                  NaN        -2         NaN  \n",
       "\n",
       "[5 rows x 94 columns]"
      ]
     },
     "execution_count": 16,
     "metadata": {},
     "output_type": "execute_result"
    }
   ],
   "source": [
    "matchdata_withratings.head()\n"
   ]
  },
  {
   "cell_type": "markdown",
   "metadata": {},
   "source": [
    "\n",
    "\n",
    "### Data Cleaning \n",
    "The data was inspected visually, it does't need cleaning. the functions df_nunique() and .items was used to check the number of unique values and some values of each table. We can say that the data needs no further cleaning. However for some part of the analysis NAN values will be deleted and that will be explained later on."
   ]
  },
  {
   "cell_type": "markdown",
   "metadata": {},
   "source": [
    "<a id='eda'></a>\n",
    "## Exploratory Data Analysis\n",
    "\n",
    "> **Tip**: Now that you've trimmed and cleaned your data, you're ready to move on to exploration. Compute statistics and create visualizations with the goal of addressing the research questions that you posed in the Introduction section. It is recommended that you be systematic with your approach. Look at one variable at a time, and then follow it up by looking at relationships between variables.\n",
    "\n",
    "### Research Question 1 What are the most common tactics used in modern european football?\n",
    "To answer this questions I will plot a pie chart for each of the data sets I have and for each type of tactics obtained from the data set. I will be using home team info as eurpean leagues are played in two legs format, so each game is played twice once on one team's home stadium and the other on the other team's home stadium.\n",
    "\n"
   ]
  },
  {
   "cell_type": "code",
   "execution_count": 88,
   "metadata": {},
   "outputs": [
    {
     "data": {
      "image/png": "[encoded data removed]",
      "text/plain": [
       "<matplotlib.figure.Figure at 0x7fb2557234a8>"
      ]
     },
     "metadata": {},
     "output_type": "display_data"
    },
    {
     "data": {
      "image/png": "[encoded data removed]",
      "text/plain": [
       "<matplotlib.figure.Figure at 0x7fb255723518>"
      ]
     },
     "metadata": {},
     "output_type": "display_data"
    },
    {
     "data": {
      "image/png": "[encoded data removed]",
      "text/plain": [
       "<matplotlib.figure.Figure at 0x7fb251ded320>"
      ]
     },
     "metadata": {},
     "output_type": "display_data"
    },
    {
     "data": {
      "image/png": "[encoded data removed]",
      "text/plain": [
       "<matplotlib.figure.Figure at 0x7fb2552f1588>"
      ]
     },
     "metadata": {},
     "output_type": "display_data"
    },
    {
     "data": {
      "image/png": "[encoded data removed]",
      "text/plain": [
       "<matplotlib.figure.Figure at 0x7fb2553315f8>"
      ]
     },
     "metadata": {},
     "output_type": "display_data"
    },
    {
     "data": {
      "image/png": "[encoded data removed]",
      "text/plain": [
       "<matplotlib.figure.Figure at 0x7fb254a89438>"
      ]
     },
     "metadata": {},
     "output_type": "display_data"
    },
    {
     "data": {
      "image/png": "[encoded data removed]",
      "text/plain": [
       "<matplotlib.figure.Figure at 0x7fb25554ad30>"
      ]
     },
     "metadata": {},
     "output_type": "display_data"
    },
    {
     "data": {
      "image/png": "[encoded data removed]",
      "text/plain": [
       "<matplotlib.figure.Figure at 0x7fb25538e518>"
      ]
     },
     "metadata": {},
     "output_type": "display_data"
    },
    {
     "data": {
      "image/png": "[encoded data removed]",
      "text/plain": [
       "<matplotlib.figure.Figure at 0x7fb2555941d0>"
      ]
     },
     "metadata": {},
     "output_type": "display_data"
    }
   ],
   "source": [
    "\n",
    "g=matchdata_withratings['home_team_buildUp_playSpeedClass'].value_counts();\n",
    "plt.pie(g,labels=g.keys(),autopct='%.1f%%');\n",
    "plt.title('Teams Build Up Play Speed ');\n",
    "plt.xlabel('Speed');\n",
    "plt.show();\n",
    "\n",
    "g=matchdata_withratings.home_team_buildUpPlayDribbingClass.value_counts();\n",
    "plt.pie(g,labels=g.keys(),autopct='%.1f%%');\n",
    "plt.title('Teams build Up Play Dribbing');\n",
    "plt.xlabel('Amount of Dribbling');\n",
    "plt.show();\n",
    "\n",
    "g=matchdata_withratings.home_team_buildUpPassingClass.value_counts();\n",
    "plt.pie(g,labels=g.keys(),autopct='%.1f%%');\n",
    "plt.title('Teams build Up Passing');\n",
    "plt.xlabel('Style of Passes');\n",
    "plt.show();\n",
    "\n",
    "\n",
    "g=matchdata_withratings.home_team_chanceCreationPassingClass.value_counts();\n",
    "plt.pie(g,labels=g.keys(),autopct='%.1f%%');\n",
    "plt.title('Teams Chance Creation from Passing');\n",
    "plt.xlabel('Types of Chances');\n",
    "plt.show();\n",
    "\n",
    "g=matchdata_withratings.home_team_chanceCreationCrossingClass.value_counts();\n",
    "plt.pie(g,labels=g.keys(),autopct='%.1f%%');\n",
    "plt.title('Teams Chance Creation from Crossing');\n",
    "plt.xlabel('Amount of Crosses');\n",
    "plt.show();\n",
    "\n",
    "g=matchdata_withratings.home_team_chanceCreationShootingClass.value_counts();\n",
    "plt.pie(g,labels=g.keys(),autopct='%.1f%%');\n",
    "plt.title('Teams Chance Creation from Shooting');\n",
    "plt.xlabel('Amount of Shots');\n",
    "plt.show();\n",
    "\n",
    "g=matchdata_withratings.home_team_defencePressureClass.value_counts();\n",
    "plt.pie(g,labels=g.keys(),autopct='%.1f%%');\n",
    "plt.title('Teams Defence Range');\n",
    "plt.xlabel('Defence Range');\n",
    "plt.show();\n",
    "\n",
    "g=matchdata_withratings.home_team_defenceAggressionClass.value_counts();\n",
    "plt.pie(g,labels=g.keys(),autopct='%.1f%%');\n",
    "plt.title('Teams Defence Aggression');\n",
    "plt.xlabel('Defence Aggression Style');\n",
    "plt.show();\n",
    "\n",
    "g=matchdata_withratings.home_team_defenceTeamWidthClass.value_counts();\n",
    "plt.pie(g,labels=g.keys(),autopct='%.1f%%');\n",
    "plt.title('Teams Defence Width');\n",
    "plt.xlabel('Defence Width');\n",
    "plt.show();\n"
   ]
  },
  {
   "cell_type": "markdown",
   "metadata": {},
   "source": [
    "The results shows that modern european football is characterized by moderate build up speed in play, little dribbling, mixed passing, average rist in passing, moderate level of crosses and chances from shooting. While Defence is characterized by midium range, usually pressing on the opponent and defence players are neither close or far from each other, a moderate distance.\n",
    "To calcuate the teams applying these tactics we apply the following code:"
   ]
  },
  {
   "cell_type": "code",
   "execution_count": 107,
   "metadata": {},
   "outputs": [
    {
     "data": {
      "text/plain": [
       "0.19850648600792947"
      ]
     },
     "execution_count": 107,
     "metadata": {},
     "output_type": "execute_result"
    }
   ],
   "source": [
    "matchdata_withratings[(matchdata_withratings.home_team_buildUp_playSpeedClass == 'Balanced') & (matchdata_withratings.home_team_buildUpPlayDribbingClass == 'Little') & (matchdata_withratings.home_team_buildUpPassingClass == 'Mixed') & (matchdata_withratings.home_team_chanceCreationPassingClass == 'Normal') & (matchdata_withratings.home_team_chanceCreationCrossingClass == 'Normal') & (matchdata_withratings.home_team_chanceCreationShootingClass == 'Normal') & (matchdata_withratings.home_team_defencePressureClass == 'Medium') & (matchdata_withratings.home_team_defenceAggressionClass == 'Press') & (matchdata_withratings.home_team_defenceTeamWidthClass == 'Normal') ].match_api_id.count() / matchdata_withratings.match_api_id.count()\n"
   ]
  },
  {
   "cell_type": "markdown",
   "metadata": {},
   "source": [
    "So about 19% of the matches played were using all the main tactics options."
   ]
  },
  {
   "cell_type": "markdown",
   "metadata": {},
   "source": [
    "### Research Question 2: Is there a connection between the difference in ratings between the home and away team and goal difference between them?\n",
    "\n",
    "In few more words, FIFA rating for each team which was earlier calculated from each player participating in the game. Can it be used to predict who win and by how much goal differences. For this analysis I will be using the 'goal_diff'\tand 'rating_diff' columns I calculated earlier.\n",
    "1st I will examin the histograms for each of these variables to explore them."
   ]
  },
  {
   "cell_type": "code",
   "execution_count": 115,
   "metadata": {},
   "outputs": [
    {
     "data": {
      "image/png": "[encoded data removed]",
      "text/plain": [
       "<matplotlib.figure.Figure at 0x7fb2551fff28>"
      ]
     },
     "metadata": {
      "needs_background": "light"
     },
     "output_type": "display_data"
    },
    {
     "data": {
      "image/png": "[encoded data removed]",
      "text/plain": [
       "<matplotlib.figure.Figure at 0x7fb254f9a2b0>"
      ]
     },
     "metadata": {
      "needs_background": "light"
     },
     "output_type": "display_data"
    }
   ],
   "source": [
    "plt.hist(matchdata_withratings['goal_diff'].dropna());\n",
    "plt.title('Goal Difference: Home Team Goals - Away Team Goals');\n",
    "plt.xlabel('Goal Difference');\n",
    "plt.ylabel('Number of Matches');\n",
    "plt.show();\n",
    "\n",
    "\n",
    "plt.hist(matchdata_withratings['rating_diff'].dropna())\n",
    "plt.title('Rating Difference: Home Team Rating - Away Team Rating');\n",
    "plt.xlabel('Rating Difference');\n",
    "plt.ylabel('Number of Matches');\n",
    "plt.show();"
   ]
  },
  {
   "cell_type": "markdown",
   "metadata": {},
   "source": [
    "It can be seen that this goal difference is skewed to the right, indicating home teams usually have an advantage. Furthermore, the most famous score is a tie with goal difference = 0. \n",
    "Ratings histogram shows that in some leagues there is a difference up to 20 between the teams. it is normally distributed as expected for a large set of data points. There might be a small impact of the NaN values that have been eliminated from the figure. \n",
    "To explore the connection between the two variables, we can apply the scatter plot and calculate the pearson correlation."
   ]
  },
  {
   "cell_type": "code",
   "execution_count": 135,
   "metadata": {},
   "outputs": [
    {
     "data": {
      "image/png": "[encoded data removed]",
      "text/plain": [
       "<matplotlib.figure.Figure at 0x7fb2555af860>"
      ]
     },
     "metadata": {
      "needs_background": "light"
     },
     "output_type": "display_data"
    },
    {
     "data": {
      "text/html": [
       "<div>\n",
       "<style>\n",
       "    .dataframe thead tr:only-child th {\n",
       "        text-align: right;\n",
       "    }\n",
       "\n",
       "    .dataframe thead th {\n",
       "        text-align: left;\n",
       "    }\n",
       "\n",
       "    .dataframe tbody tr th {\n",
       "        vertical-align: top;\n",
       "    }\n",
       "</style>\n",
       "<table border=\"1\" class=\"dataframe\">\n",
       "  <thead>\n",
       "    <tr style=\"text-align: right;\">\n",
       "      <th></th>\n",
       "      <th>rating_diff</th>\n",
       "      <th>goal_diff</th>\n",
       "    </tr>\n",
       "  </thead>\n",
       "  <tbody>\n",
       "    <tr>\n",
       "      <th>rating_diff</th>\n",
       "      <td>1.000000</td>\n",
       "      <td>0.430134</td>\n",
       "    </tr>\n",
       "    <tr>\n",
       "      <th>goal_diff</th>\n",
       "      <td>0.430134</td>\n",
       "      <td>1.000000</td>\n",
       "    </tr>\n",
       "  </tbody>\n",
       "</table>\n",
       "</div>"
      ],
      "text/plain": [
       "             rating_diff  goal_diff\n",
       "rating_diff     1.000000   0.430134\n",
       "goal_diff       0.430134   1.000000"
      ]
     },
     "execution_count": 135,
     "metadata": {},
     "output_type": "execute_result"
    }
   ],
   "source": [
    "plt.scatter(matchdata_withratings['rating_diff'],matchdata_withratings['goal_diff']);\n",
    "plt.title('Goal vs Rating Difference: Home Team  - Away Team ');\n",
    "plt.xlabel('Rating Difference');\n",
    "plt.ylabel('Goal Difference');\n",
    "plt.show();\n",
    "\n",
    "g = matchdata_withratings.loc[:,['rating_diff','goal_diff']].dropna()\n",
    "g.corr(method='pearson')"
   ]
  },
  {
   "cell_type": "markdown",
   "metadata": {},
   "source": [
    "The scatter diagram and the pearson correlation shows there is somehow a weak correlation between the average individual player rating of a team and the goal difference. This implies that coach's tactics have an impact on the result, maybe other factors also like harmony, morale, pressure from important games and surely luck!. All of these need to be part of the model if we want to predict the final result."
   ]
  },
  {
   "cell_type": "markdown",
   "metadata": {},
   "source": [
    "<a id='conclusions'></a>\n",
    "## Conclusions\n",
    "\n",
    "In this small project we have explored the most used tactics in european football. It was concluded 19% only share the most common features. Maybe during other times (in the future) different style emerges. \n",
    "The second question was about understanding the relationship between final result (goal difference) and (player ratings from FIFA) and concluded there is a correlation but it is not strong enough, as it is not the only factor \n",
    "\n",
    "\n",
    "## Submitting your Project \n",
    "\n",
    "> Before you submit your project, you need to create a .html or .pdf version of this notebook in the workspace here. To do that, run the code cell below. If it worked correctly, you should get a return code of 0, and you should see the generated .html file in the workspace directory (click on the orange Jupyter icon in the upper left).\n",
    "\n",
    "> Alternatively, you can download this report as .html via the **File** > **Download as** submenu, and then manually upload it into the workspace directory by clicking on the orange Jupyter icon in the upper left, then using the Upload button.\n",
    "\n",
    "> Once you've done this, you can submit your project by clicking on the \"Submit Project\" button in the lower right here. This will create and submit a zip file with this .ipynb doc and the .html or .pdf version you created. Congratulations!"
   ]
  },
  {
   "cell_type": "code",
   "execution_count": null,
   "metadata": {
    "collapsed": true
   },
   "outputs": [],
   "source": [
    "from subprocess import call\n",
    "call(['python', '-m', 'nbconvert', 'Investigate_a_Dataset.ipynb'])"
   ]
  }
 ],
 "metadata": {
  "kernelspec": {
   "display_name": "Python 3",
   "language": "python",
   "name": "python3"
  },
  "language_info": {
   "codemirror_mode": {
    "name": "ipython",
    "version": 3
   },
   "file_extension": ".py",
   "mimetype": "text/x-python",
   "name": "python",
   "nbconvert_exporter": "python",
   "pygments_lexer": "ipython3",
   "version": "3.6.3"
  }
 },
 "nbformat": 4,
 "nbformat_minor": 2
}
